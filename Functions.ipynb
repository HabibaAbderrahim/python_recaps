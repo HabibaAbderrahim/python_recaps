{
  "nbformat": 4,
  "nbformat_minor": 0,
  "metadata": {
    "colab": {
      "provenance": [],
      "authorship_tag": "ABX9TyOLVGKumlGmulwK/rxRRKMs",
      "include_colab_link": true
    },
    "kernelspec": {
      "name": "python3",
      "display_name": "Python 3"
    },
    "language_info": {
      "name": "python"
    }
  },
  "cells": [
    {
      "cell_type": "markdown",
      "metadata": {
        "id": "view-in-github",
        "colab_type": "text"
      },
      "source": [
        "<a href=\"https://colab.research.google.com/github/HabibaAbderrahim/python_recaps/blob/main/Functions.ipynb\" target=\"_parent\"><img src=\"https://colab.research.google.com/assets/colab-badge.svg\" alt=\"Open In Colab\"/></a>"
      ]
    },
    {
      "cell_type": "code",
      "execution_count": null,
      "metadata": {
        "id": "tVoP-VmBmp-N"
      },
      "outputs": [],
      "source": [
        "#Arbitary Arguments"
      ]
    },
    {
      "cell_type": "markdown",
      "source": [
        "If you don't know how many arguments will be passed"
      ],
      "metadata": {
        "id": "eJ6gHmxhm1dK"
      }
    },
    {
      "cell_type": "code",
      "source": [
        "def my_children(*args):\n",
        "  print(\"the oldest child is \",args[0])"
      ],
      "metadata": {
        "id": "YKb5LKunr2yt"
      },
      "execution_count": null,
      "outputs": []
    },
    {
      "cell_type": "code",
      "source": [
        "my_children(\"asma\",\"haroun\",\"baya\")"
      ],
      "metadata": {
        "colab": {
          "base_uri": "https://localhost:8080/"
        },
        "id": "QegROfRtsSl1",
        "outputId": "b29afa4d-3c1d-4549-80fd-743340b5cbfa"
      },
      "execution_count": null,
      "outputs": [
        {
          "output_type": "stream",
          "name": "stdout",
          "text": [
            "the oldest child is  asma\n"
          ]
        }
      ]
    },
    {
      "cell_type": "code",
      "source": [
        "# keywords args kwargs"
      ],
      "metadata": {
        "id": "KX158KpXsa4C"
      },
      "execution_count": null,
      "outputs": []
    },
    {
      "cell_type": "markdown",
      "source": [
        "send args with key value syntaxe"
      ],
      "metadata": {
        "id": "BYHjCV57slCd"
      }
    },
    {
      "cell_type": "code",
      "source": [
        "def my_children(c1, c2):\n",
        "    print(\"the oldest child is \" + c1)\n",
        "\n",
        "my_children(c1=\"asma\", c2=\"haroun\")\n"
      ],
      "metadata": {
        "colab": {
          "base_uri": "https://localhost:8080/"
        },
        "id": "1-51esWbtVRP",
        "outputId": "faaf755a-7573-465a-d234-d370a14d0492"
      },
      "execution_count": null,
      "outputs": [
        {
          "output_type": "stream",
          "name": "stdout",
          "text": [
            "the oldest child is asma\n"
          ]
        }
      ]
    },
    {
      "cell_type": "code",
      "source": [
        "def my_children(**kwargs):\n",
        "    print(\"the oldest child is \" + kwargs[\"c1\"])\n",
        "\n",
        "my_children(c1=\"asma\", c2=\"haroun\")\n"
      ],
      "metadata": {
        "colab": {
          "base_uri": "https://localhost:8080/"
        },
        "id": "Y76ZDj_9tnLt",
        "outputId": "dcfdfec2-210f-4cbe-98c8-9fbc392118d4"
      },
      "execution_count": null,
      "outputs": [
        {
          "output_type": "stream",
          "name": "stdout",
          "text": [
            "the oldest child is asma\n"
          ]
        }
      ]
    }
  ]
}